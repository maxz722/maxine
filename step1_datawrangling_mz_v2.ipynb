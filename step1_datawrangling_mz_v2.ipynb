{
 "cells": [
  {
   "cell_type": "code",
   "execution_count": 142,
   "metadata": {},
   "outputs": [],
   "source": [
    "import pandas as pd\n",
    "import numpy as np\n",
    "import matplotlib.pyplot as plt\n",
    "import seaborn as sns\n",
    "from scipy.stats import ttest_ind "
   ]
  },
  {
   "cell_type": "code",
   "execution_count": 143,
   "metadata": {},
   "outputs": [],
   "source": [
    "df = pd.read_csv('listings.csv', low_memory=False)"
   ]
  },
  {
   "cell_type": "code",
   "execution_count": 144,
   "metadata": {},
   "outputs": [
    {
     "data": {
      "text/html": [
       "<div>\n",
       "<style scoped>\n",
       "    .dataframe tbody tr th:only-of-type {\n",
       "        vertical-align: middle;\n",
       "    }\n",
       "\n",
       "    .dataframe tbody tr th {\n",
       "        vertical-align: top;\n",
       "    }\n",
       "\n",
       "    .dataframe thead th {\n",
       "        text-align: right;\n",
       "    }\n",
       "</style>\n",
       "<table border=\"1\" class=\"dataframe\">\n",
       "  <thead>\n",
       "    <tr style=\"text-align: right;\">\n",
       "      <th></th>\n",
       "      <th>id</th>\n",
       "      <th>listing_url</th>\n",
       "      <th>scrape_id</th>\n",
       "      <th>last_scraped</th>\n",
       "      <th>name</th>\n",
       "      <th>summary</th>\n",
       "      <th>space</th>\n",
       "      <th>description</th>\n",
       "      <th>experiences_offered</th>\n",
       "      <th>neighborhood_overview</th>\n",
       "      <th>...</th>\n",
       "      <th>instant_bookable</th>\n",
       "      <th>is_business_travel_ready</th>\n",
       "      <th>cancellation_policy</th>\n",
       "      <th>require_guest_profile_picture</th>\n",
       "      <th>require_guest_phone_verification</th>\n",
       "      <th>calculated_host_listings_count</th>\n",
       "      <th>calculated_host_listings_count_entire_homes</th>\n",
       "      <th>calculated_host_listings_count_private_rooms</th>\n",
       "      <th>calculated_host_listings_count_shared_rooms</th>\n",
       "      <th>reviews_per_month</th>\n",
       "    </tr>\n",
       "  </thead>\n",
       "  <tbody>\n",
       "    <tr>\n",
       "      <td>0</td>\n",
       "      <td>958</td>\n",
       "      <td>https://www.airbnb.com/rooms/958</td>\n",
       "      <td>20191204162709</td>\n",
       "      <td>2019-12-04</td>\n",
       "      <td>Bright, Modern Garden Unit - 1BR/1B</td>\n",
       "      <td>New update: the house next door is under const...</td>\n",
       "      <td>Newly remodeled, modern, and bright garden uni...</td>\n",
       "      <td>New update: the house next door is under const...</td>\n",
       "      <td>none</td>\n",
       "      <td>*Quiet cul de sac in friendly neighborhood *St...</td>\n",
       "      <td>...</td>\n",
       "      <td>f</td>\n",
       "      <td>f</td>\n",
       "      <td>moderate</td>\n",
       "      <td>f</td>\n",
       "      <td>f</td>\n",
       "      <td>1</td>\n",
       "      <td>1</td>\n",
       "      <td>0</td>\n",
       "      <td>0</td>\n",
       "      <td>1.79</td>\n",
       "    </tr>\n",
       "    <tr>\n",
       "      <td>1</td>\n",
       "      <td>3850</td>\n",
       "      <td>https://www.airbnb.com/rooms/3850</td>\n",
       "      <td>20191204162709</td>\n",
       "      <td>2019-12-04</td>\n",
       "      <td>Charming room for two</td>\n",
       "      <td>Your own private room plus access to a shared ...</td>\n",
       "      <td>This room can fit two people. Nobody else will...</td>\n",
       "      <td>Your own private room plus access to a shared ...</td>\n",
       "      <td>none</td>\n",
       "      <td>This is a quiet, safe neighborhood on a substa...</td>\n",
       "      <td>...</td>\n",
       "      <td>f</td>\n",
       "      <td>f</td>\n",
       "      <td>strict_14_with_grace_period</td>\n",
       "      <td>f</td>\n",
       "      <td>f</td>\n",
       "      <td>3</td>\n",
       "      <td>0</td>\n",
       "      <td>3</td>\n",
       "      <td>0</td>\n",
       "      <td>1.38</td>\n",
       "    </tr>\n",
       "    <tr>\n",
       "      <td>2</td>\n",
       "      <td>5858</td>\n",
       "      <td>https://www.airbnb.com/rooms/5858</td>\n",
       "      <td>20191204162709</td>\n",
       "      <td>2019-12-05</td>\n",
       "      <td>Creative Sanctuary</td>\n",
       "      <td>NaN</td>\n",
       "      <td>We live in a large Victorian house on a quiet ...</td>\n",
       "      <td>We live in a large Victorian house on a quiet ...</td>\n",
       "      <td>none</td>\n",
       "      <td>I love how our neighborhood feels quiet but is...</td>\n",
       "      <td>...</td>\n",
       "      <td>f</td>\n",
       "      <td>f</td>\n",
       "      <td>strict_14_with_grace_period</td>\n",
       "      <td>f</td>\n",
       "      <td>f</td>\n",
       "      <td>1</td>\n",
       "      <td>1</td>\n",
       "      <td>0</td>\n",
       "      <td>0</td>\n",
       "      <td>0.86</td>\n",
       "    </tr>\n",
       "    <tr>\n",
       "      <td>3</td>\n",
       "      <td>7918</td>\n",
       "      <td>https://www.airbnb.com/rooms/7918</td>\n",
       "      <td>20191204162709</td>\n",
       "      <td>2019-12-04</td>\n",
       "      <td>A Friendly Room - UCSF/USF - San Francisco</td>\n",
       "      <td>Nice and good public transportation.  7 minute...</td>\n",
       "      <td>Settle down, S.F. resident, student, hospital,...</td>\n",
       "      <td>Nice and good public transportation.  7 minute...</td>\n",
       "      <td>none</td>\n",
       "      <td>Shopping old town, restaurants, McDonald, Whol...</td>\n",
       "      <td>...</td>\n",
       "      <td>f</td>\n",
       "      <td>f</td>\n",
       "      <td>strict_14_with_grace_period</td>\n",
       "      <td>f</td>\n",
       "      <td>f</td>\n",
       "      <td>9</td>\n",
       "      <td>0</td>\n",
       "      <td>9</td>\n",
       "      <td>0</td>\n",
       "      <td>0.14</td>\n",
       "    </tr>\n",
       "    <tr>\n",
       "      <td>4</td>\n",
       "      <td>8142</td>\n",
       "      <td>https://www.airbnb.com/rooms/8142</td>\n",
       "      <td>20191204162709</td>\n",
       "      <td>2019-12-04</td>\n",
       "      <td>Friendly Room Apt. Style -UCSF/USF - San Franc...</td>\n",
       "      <td>Nice and good public transportation.  7 minute...</td>\n",
       "      <td>Settle down, S.F. resident, student, hospital,...</td>\n",
       "      <td>Nice and good public transportation.  7 minute...</td>\n",
       "      <td>none</td>\n",
       "      <td>NaN</td>\n",
       "      <td>...</td>\n",
       "      <td>f</td>\n",
       "      <td>f</td>\n",
       "      <td>strict_14_with_grace_period</td>\n",
       "      <td>f</td>\n",
       "      <td>f</td>\n",
       "      <td>9</td>\n",
       "      <td>0</td>\n",
       "      <td>9</td>\n",
       "      <td>0</td>\n",
       "      <td>0.13</td>\n",
       "    </tr>\n",
       "  </tbody>\n",
       "</table>\n",
       "<p>5 rows × 106 columns</p>\n",
       "</div>"
      ],
      "text/plain": [
       "     id                        listing_url       scrape_id last_scraped  \\\n",
       "0   958   https://www.airbnb.com/rooms/958  20191204162709   2019-12-04   \n",
       "1  3850  https://www.airbnb.com/rooms/3850  20191204162709   2019-12-04   \n",
       "2  5858  https://www.airbnb.com/rooms/5858  20191204162709   2019-12-05   \n",
       "3  7918  https://www.airbnb.com/rooms/7918  20191204162709   2019-12-04   \n",
       "4  8142  https://www.airbnb.com/rooms/8142  20191204162709   2019-12-04   \n",
       "\n",
       "                                                name  \\\n",
       "0                Bright, Modern Garden Unit - 1BR/1B   \n",
       "1                              Charming room for two   \n",
       "2                                 Creative Sanctuary   \n",
       "3         A Friendly Room - UCSF/USF - San Francisco   \n",
       "4  Friendly Room Apt. Style -UCSF/USF - San Franc...   \n",
       "\n",
       "                                             summary  \\\n",
       "0  New update: the house next door is under const...   \n",
       "1  Your own private room plus access to a shared ...   \n",
       "2                                                NaN   \n",
       "3  Nice and good public transportation.  7 minute...   \n",
       "4  Nice and good public transportation.  7 minute...   \n",
       "\n",
       "                                               space  \\\n",
       "0  Newly remodeled, modern, and bright garden uni...   \n",
       "1  This room can fit two people. Nobody else will...   \n",
       "2  We live in a large Victorian house on a quiet ...   \n",
       "3  Settle down, S.F. resident, student, hospital,...   \n",
       "4  Settle down, S.F. resident, student, hospital,...   \n",
       "\n",
       "                                         description experiences_offered  \\\n",
       "0  New update: the house next door is under const...                none   \n",
       "1  Your own private room plus access to a shared ...                none   \n",
       "2  We live in a large Victorian house on a quiet ...                none   \n",
       "3  Nice and good public transportation.  7 minute...                none   \n",
       "4  Nice and good public transportation.  7 minute...                none   \n",
       "\n",
       "                               neighborhood_overview  ... instant_bookable  \\\n",
       "0  *Quiet cul de sac in friendly neighborhood *St...  ...                f   \n",
       "1  This is a quiet, safe neighborhood on a substa...  ...                f   \n",
       "2  I love how our neighborhood feels quiet but is...  ...                f   \n",
       "3  Shopping old town, restaurants, McDonald, Whol...  ...                f   \n",
       "4                                                NaN  ...                f   \n",
       "\n",
       "  is_business_travel_ready          cancellation_policy  \\\n",
       "0                        f                     moderate   \n",
       "1                        f  strict_14_with_grace_period   \n",
       "2                        f  strict_14_with_grace_period   \n",
       "3                        f  strict_14_with_grace_period   \n",
       "4                        f  strict_14_with_grace_period   \n",
       "\n",
       "  require_guest_profile_picture require_guest_phone_verification  \\\n",
       "0                             f                                f   \n",
       "1                             f                                f   \n",
       "2                             f                                f   \n",
       "3                             f                                f   \n",
       "4                             f                                f   \n",
       "\n",
       "   calculated_host_listings_count  \\\n",
       "0                               1   \n",
       "1                               3   \n",
       "2                               1   \n",
       "3                               9   \n",
       "4                               9   \n",
       "\n",
       "   calculated_host_listings_count_entire_homes  \\\n",
       "0                                            1   \n",
       "1                                            0   \n",
       "2                                            1   \n",
       "3                                            0   \n",
       "4                                            0   \n",
       "\n",
       "  calculated_host_listings_count_private_rooms  \\\n",
       "0                                            0   \n",
       "1                                            3   \n",
       "2                                            0   \n",
       "3                                            9   \n",
       "4                                            9   \n",
       "\n",
       "   calculated_host_listings_count_shared_rooms  reviews_per_month  \n",
       "0                                            0               1.79  \n",
       "1                                            0               1.38  \n",
       "2                                            0               0.86  \n",
       "3                                            0               0.14  \n",
       "4                                            0               0.13  \n",
       "\n",
       "[5 rows x 106 columns]"
      ]
     },
     "execution_count": 144,
     "metadata": {},
     "output_type": "execute_result"
    }
   ],
   "source": [
    "df.head()"
   ]
  },
  {
   "cell_type": "code",
   "execution_count": 145,
   "metadata": {},
   "outputs": [
    {
     "data": {
      "text/plain": [
       "(8533, 106)"
      ]
     },
     "execution_count": 145,
     "metadata": {},
     "output_type": "execute_result"
    }
   ],
   "source": [
    "df.shape #get the number of columns and rows in dataset"
   ]
  },
  {
   "cell_type": "code",
   "execution_count": 146,
   "metadata": {},
   "outputs": [
    {
     "name": "stdout",
     "output_type": "stream",
     "text": [
      "<class 'pandas.core.frame.DataFrame'>\n",
      "RangeIndex: 8533 entries, 0 to 8532\n",
      "Columns: 106 entries, id to reviews_per_month\n",
      "dtypes: float64(23), int64(21), object(62)\n",
      "memory usage: 6.9+ MB\n"
     ]
    }
   ],
   "source": [
    "df.info()"
   ]
  },
  {
   "cell_type": "markdown",
   "metadata": {},
   "source": [
    "Step 1: Drop obvious non-useful columns"
   ]
  },
  {
   "cell_type": "code",
   "execution_count": 147,
   "metadata": {},
   "outputs": [],
   "source": [
    "df = df.drop(['scrape_id','last_scraped','thumbnail_url','medium_url','picture_url','xl_picture_url','host_name',\n",
    "         'host_thumbnail_url','neighbourhood_group_cleansed'], axis=1)"
   ]
  },
  {
   "cell_type": "code",
   "execution_count": 148,
   "metadata": {},
   "outputs": [
    {
     "data": {
      "text/plain": [
       "(8533, 97)"
      ]
     },
     "execution_count": 148,
     "metadata": {},
     "output_type": "execute_result"
    }
   ],
   "source": [
    "df.shape #output: dropped 9 columns "
   ]
  },
  {
   "cell_type": "markdown",
   "metadata": {},
   "source": [
    "Step 2: Investigating NULL columns"
   ]
  },
  {
   "cell_type": "code",
   "execution_count": 149,
   "metadata": {},
   "outputs": [
    {
     "data": {
      "text/plain": [
       "(0, 97)"
      ]
     },
     "execution_count": 149,
     "metadata": {},
     "output_type": "execute_result"
    }
   ],
   "source": [
    "df.dropna(how = 'any').shape #would result in these many rows if we drop all rows that has any null columns "
   ]
  },
  {
   "cell_type": "code",
   "execution_count": 150,
   "metadata": {},
   "outputs": [
    {
     "data": {
      "text/plain": [
       "['summary',\n",
       " 'space',\n",
       " 'description',\n",
       " 'neighborhood_overview',\n",
       " 'notes',\n",
       " 'transit',\n",
       " 'access',\n",
       " 'interaction',\n",
       " 'house_rules',\n",
       " 'host_since',\n",
       " 'host_location',\n",
       " 'host_about',\n",
       " 'host_response_time',\n",
       " 'host_response_rate',\n",
       " 'host_acceptance_rate',\n",
       " 'host_is_superhost',\n",
       " 'host_picture_url',\n",
       " 'host_neighbourhood',\n",
       " 'host_listings_count',\n",
       " 'host_total_listings_count',\n",
       " 'host_has_profile_pic',\n",
       " 'host_identity_verified',\n",
       " 'neighbourhood',\n",
       " 'city',\n",
       " 'state',\n",
       " 'zipcode',\n",
       " 'market',\n",
       " 'bathrooms',\n",
       " 'bedrooms',\n",
       " 'beds',\n",
       " 'square_feet',\n",
       " 'weekly_price',\n",
       " 'monthly_price',\n",
       " 'security_deposit',\n",
       " 'cleaning_fee',\n",
       " 'first_review',\n",
       " 'last_review',\n",
       " 'review_scores_rating',\n",
       " 'review_scores_accuracy',\n",
       " 'review_scores_cleanliness',\n",
       " 'review_scores_checkin',\n",
       " 'review_scores_communication',\n",
       " 'review_scores_location',\n",
       " 'review_scores_value',\n",
       " 'license',\n",
       " 'jurisdiction_names',\n",
       " 'reviews_per_month']"
      ]
     },
     "execution_count": 150,
     "metadata": {},
     "output_type": "execute_result"
    }
   ],
   "source": [
    "df.columns[df.isna().any()].tolist() #selecting the columns with null values"
   ]
  },
  {
   "cell_type": "code",
   "execution_count": 151,
   "metadata": {},
   "outputs": [
    {
     "data": {
      "text/plain": [
       "47"
      ]
     },
     "execution_count": 151,
     "metadata": {},
     "output_type": "execute_result"
    }
   ],
   "source": [
    "len(df.columns[df.isna().any()].tolist())#counting how many columns have NULL values"
   ]
  },
  {
   "cell_type": "code",
   "execution_count": 152,
   "metadata": {},
   "outputs": [
    {
     "data": {
      "text/plain": [
       "host_acceptance_rate           8533\n",
       "square_feet                    8407\n",
       "monthly_price                  7507\n",
       "weekly_price                   7480\n",
       "notes                          3317\n",
       "access                         3244\n",
       "license                        3243\n",
       "interaction                    2804\n",
       "transit                        2606\n",
       "house_rules                    2283\n",
       "host_about                     2155\n",
       "neighborhood_overview          2111\n",
       "review_scores_location         1938\n",
       "review_scores_value            1938\n",
       "review_scores_checkin          1938\n",
       "review_scores_accuracy         1937\n",
       "review_scores_cleanliness      1937\n",
       "review_scores_communication    1936\n",
       "review_scores_rating           1932\n",
       "first_review                   1891\n",
       "last_review                    1891\n",
       "reviews_per_month              1891\n",
       "security_deposit               1759\n",
       "space                          1208\n",
       "host_response_time             1000\n",
       "host_response_rate             1000\n",
       "cleaning_fee                    959\n",
       "host_neighbourhood              565\n",
       "zipcode                         245\n",
       "summary                         213\n",
       "host_location                    59\n",
       "host_picture_url                 54\n",
       "host_listings_count              54\n",
       "host_total_listings_count        54\n",
       "host_has_profile_pic             54\n",
       "host_identity_verified           54\n",
       "host_since                       54\n",
       "host_is_superhost                54\n",
       "jurisdiction_names               51\n",
       "description                      41\n",
       "market                           20\n",
       "beds                             12\n",
       "neighbourhood                    10\n",
       "city                             10\n",
       "state                             7\n",
       "bathrooms                         5\n",
       "bedrooms                          3\n",
       "dtype: int64"
      ]
     },
     "execution_count": 152,
     "metadata": {},
     "output_type": "execute_result"
    }
   ],
   "source": [
    "df[df.columns[df.isna().any()].tolist()].isna().sum().sort_values(ascending = False)"
   ]
  },
  {
   "cell_type": "code",
   "execution_count": 153,
   "metadata": {},
   "outputs": [],
   "source": [
    "cols_num_missing = df[df.columns[df.isna().any()].tolist()].isna().sum().sort_values(ascending = False)\n"
   ]
  },
  {
   "cell_type": "code",
   "execution_count": 154,
   "metadata": {},
   "outputs": [
    {
     "data": {
      "text/plain": [
       "host_location                59\n",
       "host_picture_url             54\n",
       "host_listings_count          54\n",
       "host_total_listings_count    54\n",
       "host_has_profile_pic         54\n",
       "host_identity_verified       54\n",
       "host_since                   54\n",
       "host_is_superhost            54\n",
       "jurisdiction_names           51\n",
       "description                  41\n",
       "market                       20\n",
       "beds                         12\n",
       "neighbourhood                10\n",
       "city                         10\n",
       "state                         7\n",
       "bathrooms                     5\n",
       "bedrooms                      3\n",
       "dtype: int64"
      ]
     },
     "execution_count": 154,
     "metadata": {},
     "output_type": "execute_result"
    }
   ],
   "source": [
    "cols_num_missing[cols_num_missing <= 60]"
   ]
  },
  {
   "cell_type": "code",
   "execution_count": 155,
   "metadata": {},
   "outputs": [],
   "source": [
    "less_than_60_null = [\n",
    "'host_location',\n",
    "'host_picture_url',\n",
    "'host_listings_count',\n",
    "'host_total_listings_count',\n",
    "'host_has_profile_pic',\n",
    "'host_identity_verified',\n",
    "'host_since',\n",
    "'host_is_superhost',\n",
    "'jurisdiction_names',\n",
    "'description',\n",
    "'market',\n",
    "'beds',\n",
    "'neighbourhood',\n",
    "'city',\n",
    "'state',\n",
    "'bathrooms',\n",
    "'bedrooms',\n",
    "]"
   ]
  },
  {
   "cell_type": "code",
   "execution_count": 156,
   "metadata": {},
   "outputs": [
    {
     "data": {
      "text/plain": [
       "host_acceptance_rate           8533\n",
       "square_feet                    8407\n",
       "monthly_price                  7507\n",
       "weekly_price                   7480\n",
       "notes                          3317\n",
       "access                         3244\n",
       "license                        3243\n",
       "interaction                    2804\n",
       "transit                        2606\n",
       "house_rules                    2283\n",
       "host_about                     2155\n",
       "neighborhood_overview          2111\n",
       "review_scores_location         1938\n",
       "review_scores_value            1938\n",
       "review_scores_checkin          1938\n",
       "review_scores_accuracy         1937\n",
       "review_scores_cleanliness      1937\n",
       "review_scores_communication    1936\n",
       "review_scores_rating           1932\n",
       "first_review                   1891\n",
       "last_review                    1891\n",
       "reviews_per_month              1891\n",
       "security_deposit               1759\n",
       "space                          1208\n",
       "host_response_time             1000\n",
       "host_response_rate             1000\n",
       "cleaning_fee                    959\n",
       "host_neighbourhood              565\n",
       "zipcode                         245\n",
       "summary                         213\n",
       "host_location                    59\n",
       "host_picture_url                 54\n",
       "host_listings_count              54\n",
       "host_total_listings_count        54\n",
       "host_has_profile_pic             54\n",
       "host_identity_verified           54\n",
       "host_since                       54\n",
       "host_is_superhost                54\n",
       "jurisdiction_names               51\n",
       "description                      41\n",
       "market                           20\n",
       "beds                             12\n",
       "neighbourhood                    10\n",
       "city                             10\n",
       "state                             7\n",
       "bathrooms                         5\n",
       "bedrooms                          3\n",
       "dtype: int64"
      ]
     },
     "execution_count": 156,
     "metadata": {},
     "output_type": "execute_result"
    }
   ],
   "source": [
    "cols_num_missing"
   ]
  },
  {
   "cell_type": "code",
   "execution_count": 157,
   "metadata": {},
   "outputs": [],
   "source": [
    "#2.1) Drop the columns with many NULL values, there are 8533 rows in total \n",
    "\n",
    "### first drop the obvious one\n",
    "df2 = df.drop(['host_acceptance_rate'], axis = 1)"
   ]
  },
  {
   "cell_type": "code",
   "execution_count": 158,
   "metadata": {},
   "outputs": [],
   "source": [
    "### second drop the columns with majority null\n",
    "null_perc = cols_num_missing/len(df2) "
   ]
  },
  {
   "cell_type": "code",
   "execution_count": 159,
   "metadata": {},
   "outputs": [
    {
     "data": {
      "text/plain": [
       "host_acceptance_rate           1.000000\n",
       "square_feet                    0.985234\n",
       "monthly_price                  0.879761\n",
       "weekly_price                   0.876597\n",
       "notes                          0.388726\n",
       "access                         0.380171\n",
       "license                        0.380054\n",
       "interaction                    0.328607\n",
       "transit                        0.305403\n",
       "house_rules                    0.267550\n",
       "host_about                     0.252549\n",
       "neighborhood_overview          0.247392\n",
       "review_scores_location         0.227118\n",
       "review_scores_value            0.227118\n",
       "review_scores_checkin          0.227118\n",
       "review_scores_accuracy         0.227001\n",
       "review_scores_cleanliness      0.227001\n",
       "review_scores_communication    0.226884\n",
       "review_scores_rating           0.226415\n",
       "first_review                   0.221610\n",
       "last_review                    0.221610\n",
       "reviews_per_month              0.221610\n",
       "security_deposit               0.206141\n",
       "space                          0.141568\n",
       "host_response_time             0.117192\n",
       "host_response_rate             0.117192\n",
       "cleaning_fee                   0.112387\n",
       "host_neighbourhood             0.066214\n",
       "zipcode                        0.028712\n",
       "summary                        0.024962\n",
       "host_location                  0.006914\n",
       "host_picture_url               0.006328\n",
       "host_listings_count            0.006328\n",
       "host_total_listings_count      0.006328\n",
       "host_has_profile_pic           0.006328\n",
       "host_identity_verified         0.006328\n",
       "host_since                     0.006328\n",
       "host_is_superhost              0.006328\n",
       "jurisdiction_names             0.005977\n",
       "description                    0.004805\n",
       "market                         0.002344\n",
       "beds                           0.001406\n",
       "neighbourhood                  0.001172\n",
       "city                           0.001172\n",
       "state                          0.000820\n",
       "bathrooms                      0.000586\n",
       "bedrooms                       0.000352\n",
       "dtype: float64"
      ]
     },
     "execution_count": 159,
     "metadata": {},
     "output_type": "execute_result"
    }
   ],
   "source": [
    "null_perc"
   ]
  },
  {
   "cell_type": "code",
   "execution_count": 160,
   "metadata": {},
   "outputs": [],
   "source": [
    "df2 = df.drop(['host_acceptance_rate','square_feet','monthly_price','weekly_price'], axis = 1)"
   ]
  },
  {
   "cell_type": "code",
   "execution_count": 161,
   "metadata": {},
   "outputs": [
    {
     "data": {
      "text/plain": [
       "(8533, 93)"
      ]
     },
     "execution_count": 161,
     "metadata": {},
     "output_type": "execute_result"
    }
   ],
   "source": [
    "df2.shape "
   ]
  },
  {
   "cell_type": "code",
   "execution_count": 162,
   "metadata": {},
   "outputs": [],
   "source": [
    "#2.2) Drop rows for columns that are missing <= 60 rows\n",
    "# df2['host_location'].head(10)\n",
    "# less_than_60_null.drop\n",
    "df2.dropna(subset = less_than_60_null, inplace= True)"
   ]
  },
  {
   "cell_type": "code",
   "execution_count": 186,
   "metadata": {},
   "outputs": [
    {
     "data": {
      "text/plain": [
       "(8334, 93)"
      ]
     },
     "execution_count": 186,
     "metadata": {},
     "output_type": "execute_result"
    }
   ],
   "source": [
    "df2.shape "
   ]
  },
  {
   "cell_type": "markdown",
   "metadata": {},
   "source": [
    "Step 3: Check validity of certain data points"
   ]
  },
  {
   "cell_type": "code",
   "execution_count": 163,
   "metadata": {},
   "outputs": [
    {
     "data": {
      "text/plain": [
       "SoMa                     49\n",
       "Nob Hill                 34\n",
       "Western Addition/NOPA    31\n",
       "Downtown                 19\n",
       "Mission District         10\n",
       "Potrero Hill              9\n",
       "Russian Hill              8\n",
       "Financial District        8\n",
       "Dogpatch                  7\n",
       "The Castro                6\n",
       "Pacific Heights           6\n",
       "Cole Valley               5\n",
       "Bernal Heights            4\n",
       "Hayes Valley              4\n",
       "Richmond District         4\n",
       "Noe Valley                3\n",
       "Duboce Triangle           3\n",
       "South Beach               3\n",
       "Lakeshore                 3\n",
       "Alamo Square              2\n",
       "Civic Center              2\n",
       "North Beach               2\n",
       "Telegraph Hill            2\n",
       "Outer Sunset              1\n",
       "Bayview                   1\n",
       "Presidio Heights          1\n",
       "Marina                    1\n",
       "Crocker Amazon            1\n",
       "Fisherman's Wharf         1\n",
       "Twin Peaks                1\n",
       "Haight-Ashbury            1\n",
       "Chinatown                 1\n",
       "Lower Haight              1\n",
       "Parkside                  1\n",
       "Name: neighbourhood, dtype: int64"
      ]
     },
     "execution_count": 163,
     "metadata": {},
     "output_type": "execute_result"
    }
   ],
   "source": [
    "#3.1: check validity of NULL zip codes \n",
    "df2[df2['zipcode'].isnull()]['neighbourhood'].value_counts()"
   ]
  },
  {
   "cell_type": "code",
   "execution_count": 164,
   "metadata": {},
   "outputs": [
    {
     "data": {
      "text/plain": [
       "Mission District         777\n",
       "SoMa                     635\n",
       "Western Addition/NOPA    463\n",
       "Richmond District        433\n",
       "Outer Sunset             403\n",
       "Bernal Heights           394\n",
       "Downtown                 391\n",
       "Nob Hill                 381\n",
       "Noe Valley               354\n",
       "The Castro               344\n",
       "Haight-Ashbury           231\n",
       "Bayview                  219\n",
       "Potrero Hill             209\n",
       "Pacific Heights          175\n",
       "Tenderloin               175\n",
       "Union Square             157\n",
       "Inner Sunset             156\n",
       "Telegraph Hill           147\n",
       "Duboce Triangle          146\n",
       "Excelsior                133\n",
       "Cole Valley              117\n",
       "Sunnyside                117\n",
       "South Beach              116\n",
       "Russian Hill             110\n",
       "Hayes Valley             104\n",
       "Marina                   101\n",
       "Lower Haight              87\n",
       "Chinatown                 76\n",
       "Financial District        76\n",
       "Crocker Amazon            74\n",
       "Portola                   72\n",
       "Glen Park                 70\n",
       "Mission Terrace           69\n",
       "Twin Peaks                69\n",
       "Cow Hollow                65\n",
       "Alamo Square              62\n",
       "Oceanview                 62\n",
       "Mission Bay               61\n",
       "Ingleside                 59\n",
       "Visitacion Valley         56\n",
       "Balboa Terrace            53\n",
       "North Beach               52\n",
       "Fisherman's Wharf         52\n",
       "Lakeshore                 48\n",
       "Parkside                  42\n",
       "Dogpatch                  41\n",
       "Civic Center              25\n",
       "Presidio Heights          23\n",
       "Diamond Heights           18\n",
       "Japantown                 11\n",
       "Forest Hill               11\n",
       "West Portal                9\n",
       "Sea Cliff                  2\n",
       "Presidio                   1\n",
       "Name: neighbourhood, dtype: int64"
      ]
     },
     "execution_count": 164,
     "metadata": {},
     "output_type": "execute_result"
    }
   ],
   "source": [
    "df2['neighbourhood'].value_counts()"
   ]
  },
  {
   "cell_type": "code",
   "execution_count": 165,
   "metadata": {},
   "outputs": [
    {
     "data": {
      "text/html": [
       "<div>\n",
       "<style scoped>\n",
       "    .dataframe tbody tr th:only-of-type {\n",
       "        vertical-align: middle;\n",
       "    }\n",
       "\n",
       "    .dataframe tbody tr th {\n",
       "        vertical-align: top;\n",
       "    }\n",
       "\n",
       "    .dataframe thead th {\n",
       "        text-align: right;\n",
       "    }\n",
       "</style>\n",
       "<table border=\"1\" class=\"dataframe\">\n",
       "  <thead>\n",
       "    <tr style=\"text-align: right;\">\n",
       "      <th></th>\n",
       "      <th></th>\n",
       "      <th>availability_365</th>\n",
       "    </tr>\n",
       "    <tr>\n",
       "      <th>neighbourhood</th>\n",
       "      <th>zipcode</th>\n",
       "      <th></th>\n",
       "    </tr>\n",
       "  </thead>\n",
       "  <tbody>\n",
       "    <tr>\n",
       "      <td rowspan=\"2\" valign=\"top\">Alamo Square</td>\n",
       "      <td>94115</td>\n",
       "      <td>121.333333</td>\n",
       "    </tr>\n",
       "    <tr>\n",
       "      <td>94117</td>\n",
       "      <td>196.392157</td>\n",
       "    </tr>\n",
       "    <tr>\n",
       "      <td rowspan=\"2\" valign=\"top\">Balboa Terrace</td>\n",
       "      <td>94112</td>\n",
       "      <td>199.115385</td>\n",
       "    </tr>\n",
       "    <tr>\n",
       "      <td>94127</td>\n",
       "      <td>266.444444</td>\n",
       "    </tr>\n",
       "    <tr>\n",
       "      <td>Bayview</td>\n",
       "      <td>94110</td>\n",
       "      <td>365.000000</td>\n",
       "    </tr>\n",
       "    <tr>\n",
       "      <td>...</td>\n",
       "      <td>...</td>\n",
       "      <td>...</td>\n",
       "    </tr>\n",
       "    <tr>\n",
       "      <td rowspan=\"5\" valign=\"top\">Western Addition/NOPA</td>\n",
       "      <td>94121</td>\n",
       "      <td>327.000000</td>\n",
       "    </tr>\n",
       "    <tr>\n",
       "      <td>CA 94102</td>\n",
       "      <td>237.250000</td>\n",
       "    </tr>\n",
       "    <tr>\n",
       "      <td>CA 94109</td>\n",
       "      <td>240.250000</td>\n",
       "    </tr>\n",
       "    <tr>\n",
       "      <td>CA 94115</td>\n",
       "      <td>239.000000</td>\n",
       "    </tr>\n",
       "    <tr>\n",
       "      <td>CA 94117</td>\n",
       "      <td>321.000000</td>\n",
       "    </tr>\n",
       "  </tbody>\n",
       "</table>\n",
       "<p>165 rows × 1 columns</p>\n",
       "</div>"
      ],
      "text/plain": [
       "                                availability_365\n",
       "neighbourhood         zipcode                   \n",
       "Alamo Square          94115           121.333333\n",
       "                      94117           196.392157\n",
       "Balboa Terrace        94112           199.115385\n",
       "                      94127           266.444444\n",
       "Bayview               94110           365.000000\n",
       "...                                          ...\n",
       "Western Addition/NOPA 94121           327.000000\n",
       "                      CA 94102        237.250000\n",
       "                      CA 94109        240.250000\n",
       "                      CA 94115        239.000000\n",
       "                      CA 94117        321.000000\n",
       "\n",
       "[165 rows x 1 columns]"
      ]
     },
     "execution_count": 165,
     "metadata": {},
     "output_type": "execute_result"
    }
   ],
   "source": [
    "pd.pivot_table(df2[['zipcode','neighbourhood','availability_365']],index=['neighbourhood','zipcode'])\n",
    "#each neighborhood as multiple zip codes so didn't assign the null zipcodes zipcodes according to their neighborhood"
   ]
  },
  {
   "cell_type": "markdown",
   "metadata": {},
   "source": [
    "Step 4: Reformatting Columns"
   ]
  },
  {
   "cell_type": "code",
   "execution_count": 166,
   "metadata": {},
   "outputs": [],
   "source": [
    "#formatting the numeric columns \n",
    "numeric_cols = ['price','security_deposit','cleaning_fee','extra_people']"
   ]
  },
  {
   "cell_type": "code",
   "execution_count": 167,
   "metadata": {},
   "outputs": [],
   "source": [
    "#reformat zip_code\n",
    "\n",
    "#strip out the $ in the numeric columns\n",
    "\n",
    "for col in numeric_cols: \n",
    "    df2[col] = df2[col].str.lstrip('$')\n",
    "    df2[col] = df2[col].str.replace(',','').astype(float)\n",
    "#     df2[col] = df2[col].strip(',')"
   ]
  },
  {
   "cell_type": "code",
   "execution_count": 168,
   "metadata": {},
   "outputs": [
    {
     "data": {
      "text/html": [
       "<div>\n",
       "<style scoped>\n",
       "    .dataframe tbody tr th:only-of-type {\n",
       "        vertical-align: middle;\n",
       "    }\n",
       "\n",
       "    .dataframe tbody tr th {\n",
       "        vertical-align: top;\n",
       "    }\n",
       "\n",
       "    .dataframe thead th {\n",
       "        text-align: right;\n",
       "    }\n",
       "</style>\n",
       "<table border=\"1\" class=\"dataframe\">\n",
       "  <thead>\n",
       "    <tr style=\"text-align: right;\">\n",
       "      <th></th>\n",
       "      <th>price</th>\n",
       "      <th>security_deposit</th>\n",
       "      <th>cleaning_fee</th>\n",
       "      <th>extra_people</th>\n",
       "    </tr>\n",
       "  </thead>\n",
       "  <tbody>\n",
       "    <tr>\n",
       "      <td>0</td>\n",
       "      <td>170.0</td>\n",
       "      <td>100.0</td>\n",
       "      <td>100.0</td>\n",
       "      <td>25.0</td>\n",
       "    </tr>\n",
       "    <tr>\n",
       "      <td>1</td>\n",
       "      <td>99.0</td>\n",
       "      <td>0.0</td>\n",
       "      <td>10.0</td>\n",
       "      <td>20.0</td>\n",
       "    </tr>\n",
       "    <tr>\n",
       "      <td>2</td>\n",
       "      <td>235.0</td>\n",
       "      <td>NaN</td>\n",
       "      <td>100.0</td>\n",
       "      <td>0.0</td>\n",
       "    </tr>\n",
       "    <tr>\n",
       "      <td>3</td>\n",
       "      <td>65.0</td>\n",
       "      <td>200.0</td>\n",
       "      <td>50.0</td>\n",
       "      <td>12.0</td>\n",
       "    </tr>\n",
       "    <tr>\n",
       "      <td>4</td>\n",
       "      <td>65.0</td>\n",
       "      <td>200.0</td>\n",
       "      <td>50.0</td>\n",
       "      <td>12.0</td>\n",
       "    </tr>\n",
       "    <tr>\n",
       "      <td>5</td>\n",
       "      <td>585.0</td>\n",
       "      <td>0.0</td>\n",
       "      <td>175.0</td>\n",
       "      <td>300.0</td>\n",
       "    </tr>\n",
       "    <tr>\n",
       "      <td>6</td>\n",
       "      <td>139.0</td>\n",
       "      <td>0.0</td>\n",
       "      <td>50.0</td>\n",
       "      <td>60.0</td>\n",
       "    </tr>\n",
       "    <tr>\n",
       "      <td>7</td>\n",
       "      <td>135.0</td>\n",
       "      <td>NaN</td>\n",
       "      <td>50.0</td>\n",
       "      <td>0.0</td>\n",
       "    </tr>\n",
       "    <tr>\n",
       "      <td>8</td>\n",
       "      <td>199.0</td>\n",
       "      <td>500.0</td>\n",
       "      <td>100.0</td>\n",
       "      <td>0.0</td>\n",
       "    </tr>\n",
       "    <tr>\n",
       "      <td>9</td>\n",
       "      <td>120.0</td>\n",
       "      <td>500.0</td>\n",
       "      <td>75.0</td>\n",
       "      <td>0.0</td>\n",
       "    </tr>\n",
       "  </tbody>\n",
       "</table>\n",
       "</div>"
      ],
      "text/plain": [
       "   price  security_deposit  cleaning_fee  extra_people\n",
       "0  170.0             100.0         100.0          25.0\n",
       "1   99.0               0.0          10.0          20.0\n",
       "2  235.0               NaN         100.0           0.0\n",
       "3   65.0             200.0          50.0          12.0\n",
       "4   65.0             200.0          50.0          12.0\n",
       "5  585.0               0.0         175.0         300.0\n",
       "6  139.0               0.0          50.0          60.0\n",
       "7  135.0               NaN          50.0           0.0\n",
       "8  199.0             500.0         100.0           0.0\n",
       "9  120.0             500.0          75.0           0.0"
      ]
     },
     "execution_count": 168,
     "metadata": {},
     "output_type": "execute_result"
    }
   ],
   "source": [
    "df2[numeric_cols].head(10)"
   ]
  },
  {
   "cell_type": "code",
   "execution_count": 169,
   "metadata": {},
   "outputs": [
    {
     "data": {
      "text/html": [
       "<div>\n",
       "<style scoped>\n",
       "    .dataframe tbody tr th:only-of-type {\n",
       "        vertical-align: middle;\n",
       "    }\n",
       "\n",
       "    .dataframe tbody tr th {\n",
       "        vertical-align: top;\n",
       "    }\n",
       "\n",
       "    .dataframe thead th {\n",
       "        text-align: right;\n",
       "    }\n",
       "</style>\n",
       "<table border=\"1\" class=\"dataframe\">\n",
       "  <thead>\n",
       "    <tr style=\"text-align: right;\">\n",
       "      <th></th>\n",
       "      <th>price</th>\n",
       "      <th>security_deposit</th>\n",
       "      <th>cleaning_fee</th>\n",
       "      <th>extra_people</th>\n",
       "    </tr>\n",
       "  </thead>\n",
       "  <tbody>\n",
       "    <tr>\n",
       "      <td>0</td>\n",
       "      <td>170.0</td>\n",
       "      <td>100.0</td>\n",
       "      <td>100.0</td>\n",
       "      <td>25.0</td>\n",
       "    </tr>\n",
       "    <tr>\n",
       "      <td>1</td>\n",
       "      <td>99.0</td>\n",
       "      <td>0.0</td>\n",
       "      <td>10.0</td>\n",
       "      <td>20.0</td>\n",
       "    </tr>\n",
       "    <tr>\n",
       "      <td>2</td>\n",
       "      <td>235.0</td>\n",
       "      <td>NaN</td>\n",
       "      <td>100.0</td>\n",
       "      <td>0.0</td>\n",
       "    </tr>\n",
       "    <tr>\n",
       "      <td>3</td>\n",
       "      <td>65.0</td>\n",
       "      <td>200.0</td>\n",
       "      <td>50.0</td>\n",
       "      <td>12.0</td>\n",
       "    </tr>\n",
       "    <tr>\n",
       "      <td>4</td>\n",
       "      <td>65.0</td>\n",
       "      <td>200.0</td>\n",
       "      <td>50.0</td>\n",
       "      <td>12.0</td>\n",
       "    </tr>\n",
       "    <tr>\n",
       "      <td>...</td>\n",
       "      <td>...</td>\n",
       "      <td>...</td>\n",
       "      <td>...</td>\n",
       "      <td>...</td>\n",
       "    </tr>\n",
       "    <tr>\n",
       "      <td>8517</td>\n",
       "      <td>60.0</td>\n",
       "      <td>0.0</td>\n",
       "      <td>0.0</td>\n",
       "      <td>0.0</td>\n",
       "    </tr>\n",
       "    <tr>\n",
       "      <td>8518</td>\n",
       "      <td>60.0</td>\n",
       "      <td>0.0</td>\n",
       "      <td>0.0</td>\n",
       "      <td>0.0</td>\n",
       "    </tr>\n",
       "    <tr>\n",
       "      <td>8519</td>\n",
       "      <td>385.0</td>\n",
       "      <td>800.0</td>\n",
       "      <td>185.0</td>\n",
       "      <td>25.0</td>\n",
       "    </tr>\n",
       "    <tr>\n",
       "      <td>8520</td>\n",
       "      <td>175.0</td>\n",
       "      <td>NaN</td>\n",
       "      <td>NaN</td>\n",
       "      <td>0.0</td>\n",
       "    </tr>\n",
       "    <tr>\n",
       "      <td>8532</td>\n",
       "      <td>60.0</td>\n",
       "      <td>NaN</td>\n",
       "      <td>NaN</td>\n",
       "      <td>0.0</td>\n",
       "    </tr>\n",
       "  </tbody>\n",
       "</table>\n",
       "<p>8334 rows × 4 columns</p>\n",
       "</div>"
      ],
      "text/plain": [
       "      price  security_deposit  cleaning_fee  extra_people\n",
       "0     170.0             100.0         100.0          25.0\n",
       "1      99.0               0.0          10.0          20.0\n",
       "2     235.0               NaN         100.0           0.0\n",
       "3      65.0             200.0          50.0          12.0\n",
       "4      65.0             200.0          50.0          12.0\n",
       "...     ...               ...           ...           ...\n",
       "8517   60.0               0.0           0.0           0.0\n",
       "8518   60.0               0.0           0.0           0.0\n",
       "8519  385.0             800.0         185.0          25.0\n",
       "8520  175.0               NaN           NaN           0.0\n",
       "8532   60.0               NaN           NaN           0.0\n",
       "\n",
       "[8334 rows x 4 columns]"
      ]
     },
     "execution_count": 169,
     "metadata": {},
     "output_type": "execute_result"
    }
   ],
   "source": [
    "#changing object to integers\n",
    "df2[numeric_cols].apply(pd.to_numeric, errors = 'coerce') #making it into a numeric "
   ]
  },
  {
   "cell_type": "code",
   "execution_count": 170,
   "metadata": {},
   "outputs": [
    {
     "data": {
      "text/plain": [
       "price               float64\n",
       "security_deposit    float64\n",
       "cleaning_fee        float64\n",
       "extra_people        float64\n",
       "dtype: object"
      ]
     },
     "execution_count": 170,
     "metadata": {},
     "output_type": "execute_result"
    }
   ],
   "source": [
    "df2[numeric_cols].dtypes"
   ]
  },
  {
   "cell_type": "markdown",
   "metadata": {},
   "source": [
    "Step 5: Checking the Security Deposit & Cleaning Fee"
   ]
  },
  {
   "cell_type": "code",
   "execution_count": 172,
   "metadata": {},
   "outputs": [
    {
     "data": {
      "text/plain": [
       "price    177.974008\n",
       "dtype: float64"
      ]
     },
     "execution_count": 172,
     "metadata": {},
     "output_type": "execute_result"
    }
   ],
   "source": [
    "## mean of price with $0 security deposit\n",
    "df2[['price']][df2['security_deposit'] == 0].mean()"
   ]
  },
  {
   "cell_type": "code",
   "execution_count": 175,
   "metadata": {},
   "outputs": [
    {
     "data": {
      "text/plain": [
       "price    230.304348\n",
       "dtype: float64"
      ]
     },
     "execution_count": 175,
     "metadata": {},
     "output_type": "execute_result"
    }
   ],
   "source": [
    "## mean of price with > $0 security deposit\n",
    "df2[['price']][df2['security_deposit'] != 0].mean()"
   ]
  },
  {
   "cell_type": "code",
   "execution_count": 176,
   "metadata": {},
   "outputs": [
    {
     "data": {
      "text/plain": [
       "price    219.71017\n",
       "dtype: float64"
      ]
     },
     "execution_count": 176,
     "metadata": {},
     "output_type": "execute_result"
    }
   ],
   "source": [
    "## mean of price with NULL security despoit \n",
    "df2[['price']][df2['security_deposit'].isnull()].mean()"
   ]
  },
  {
   "cell_type": "code",
   "execution_count": 177,
   "metadata": {},
   "outputs": [
    {
     "data": {
      "text/plain": [
       "price    224.296524\n",
       "dtype: float64"
      ]
     },
     "execution_count": 177,
     "metadata": {},
     "output_type": "execute_result"
    }
   ],
   "source": [
    "## mean of price with $0 cleaning fee\n",
    "df2[['price']][df2['cleaning_fee'] == 0].mean()"
   ]
  },
  {
   "cell_type": "code",
   "execution_count": 178,
   "metadata": {},
   "outputs": [
    {
     "data": {
      "text/plain": [
       "price    216.050351\n",
       "dtype: float64"
      ]
     },
     "execution_count": 178,
     "metadata": {},
     "output_type": "execute_result"
    }
   ],
   "source": [
    "## mean of price with > $0 security deposit\n",
    "df2[['price']][df2['cleaning_fee'] != 0].mean()"
   ]
  },
  {
   "cell_type": "code",
   "execution_count": 179,
   "metadata": {},
   "outputs": [
    {
     "data": {
      "text/plain": [
       "price    241.489617\n",
       "dtype: float64"
      ]
     },
     "execution_count": 179,
     "metadata": {},
     "output_type": "execute_result"
    }
   ],
   "source": [
    "## mean of price with NULL security despoit \n",
    "df2[['price']][df2['cleaning_fee'].isnull()].mean()"
   ]
  },
  {
   "cell_type": "markdown",
   "metadata": {},
   "source": [
    "Security Deposit"
   ]
  },
  {
   "cell_type": "code",
   "execution_count": 180,
   "metadata": {},
   "outputs": [
    {
     "data": {
      "text/plain": [
       "Ttest_indResult(statistic=array([-4.58754434]), pvalue=array([4.62610398e-06]))"
      ]
     },
     "execution_count": 180,
     "metadata": {},
     "output_type": "execute_result"
    }
   ],
   "source": [
    "## testing $0 & NULL \n",
    "ttest_ind(df2[['price']][df2['security_deposit'] == 0], df2[['price']][df2['security_deposit'].isnull()])"
   ]
  },
  {
   "cell_type": "code",
   "execution_count": 181,
   "metadata": {},
   "outputs": [
    {
     "data": {
      "text/plain": [
       "Ttest_indResult(statistic=array([-6.96365472]), pvalue=array([3.56722749e-12]))"
      ]
     },
     "execution_count": 181,
     "metadata": {},
     "output_type": "execute_result"
    }
   ],
   "source": [
    "# testing $0 & NonZero\n",
    "ttest_ind(df2[['price']][df2['security_deposit'] == 0],df2[['price']][df2['security_deposit'] != 0])"
   ]
  },
  {
   "cell_type": "code",
   "execution_count": 182,
   "metadata": {},
   "outputs": [
    {
     "data": {
      "text/plain": [
       "Ttest_indResult(statistic=array([-1.19165111]), pvalue=array([0.23343415]))"
      ]
     },
     "execution_count": 182,
     "metadata": {},
     "output_type": "execute_result"
    }
   ],
   "source": [
    "# testing NonZero & NULL\n",
    "ttest_ind(df2[['price']][df2['security_deposit'].isnull()],df2[['price']][df2['security_deposit'] != 0])"
   ]
  },
  {
   "cell_type": "markdown",
   "metadata": {},
   "source": [
    "Cleaning Fee"
   ]
  },
  {
   "cell_type": "code",
   "execution_count": 183,
   "metadata": {},
   "outputs": [
    {
     "data": {
      "text/plain": [
       "Ttest_indResult(statistic=array([-0.73123489]), pvalue=array([0.46475788]))"
      ]
     },
     "execution_count": 183,
     "metadata": {},
     "output_type": "execute_result"
    }
   ],
   "source": [
    "## testing $0 & NULL \n",
    "ttest_ind(df2[['price']][df2['cleaning_fee'] == 0], df2[['price']][df2['cleaning_fee'].isnull()])"
   ]
  },
  {
   "cell_type": "code",
   "execution_count": 185,
   "metadata": {},
   "outputs": [
    {
     "data": {
      "text/plain": [
       "Ttest_indResult(statistic=array([0.58397856]), pvalue=array([0.55925055]))"
      ]
     },
     "execution_count": 185,
     "metadata": {},
     "output_type": "execute_result"
    }
   ],
   "source": [
    "# testing $0 & NonZero\n",
    "ttest_ind(df2[['price']][df2['cleaning_fee'] == 0],df2[['price']][df2['cleaning_fee'] != 0])"
   ]
  },
  {
   "cell_type": "code",
   "execution_count": 184,
   "metadata": {},
   "outputs": [
    {
     "data": {
      "text/plain": [
       "Ttest_indResult(statistic=array([2.27006461]), pvalue=array([0.02322786]))"
      ]
     },
     "execution_count": 184,
     "metadata": {},
     "output_type": "execute_result"
    }
   ],
   "source": [
    "# testing NonZero & NULL\n",
    "ttest_ind(df2[['price']][df2['cleaning_fee'].isnull()],df2[['price']][df2['cleaning_fee'] != 0])"
   ]
  },
  {
   "cell_type": "markdown",
   "metadata": {},
   "source": [
    "Read to CSV File"
   ]
  },
  {
   "cell_type": "code",
   "execution_count": 187,
   "metadata": {},
   "outputs": [],
   "source": [
    "df2.to_csv('cleaned_listing.csv')"
   ]
  },
  {
   "cell_type": "code",
   "execution_count": null,
   "metadata": {},
   "outputs": [],
   "source": []
  }
 ],
 "metadata": {
  "kernelspec": {
   "display_name": "Python 3",
   "language": "python",
   "name": "python3"
  },
  "language_info": {
   "codemirror_mode": {
    "name": "ipython",
    "version": 3
   },
   "file_extension": ".py",
   "mimetype": "text/x-python",
   "name": "python",
   "nbconvert_exporter": "python",
   "pygments_lexer": "ipython3",
   "version": "3.7.4"
  }
 },
 "nbformat": 4,
 "nbformat_minor": 2
}
